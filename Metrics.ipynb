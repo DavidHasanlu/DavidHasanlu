{
 "cells": [
  {
   "cell_type": "code",
   "execution_count": 1,
   "metadata": {},
   "outputs": [
    {
     "data": {
      "text/html": [
       "<div>\n",
       "<style scoped>\n",
       "    .dataframe tbody tr th:only-of-type {\n",
       "        vertical-align: middle;\n",
       "    }\n",
       "\n",
       "    .dataframe tbody tr th {\n",
       "        vertical-align: top;\n",
       "    }\n",
       "\n",
       "    .dataframe thead th {\n",
       "        text-align: right;\n",
       "    }\n",
       "</style>\n",
       "<table border=\"1\" class=\"dataframe\">\n",
       "  <thead>\n",
       "    <tr style=\"text-align: right;\">\n",
       "      <th></th>\n",
       "      <th>event_date</th>\n",
       "      <th>user_id</th>\n",
       "      <th>score</th>\n",
       "    </tr>\n",
       "  </thead>\n",
       "  <tbody>\n",
       "    <tr>\n",
       "      <td>0</td>\n",
       "      <td>2020-01-01 19:00:51</td>\n",
       "      <td>290067447</td>\n",
       "      <td>8</td>\n",
       "    </tr>\n",
       "    <tr>\n",
       "      <td>1</td>\n",
       "      <td>2020-01-02 17:34:43</td>\n",
       "      <td>223014806</td>\n",
       "      <td>10</td>\n",
       "    </tr>\n",
       "    <tr>\n",
       "      <td>2</td>\n",
       "      <td>2020-01-02 19:11:55</td>\n",
       "      <td>187864388</td>\n",
       "      <td>10</td>\n",
       "    </tr>\n",
       "    <tr>\n",
       "      <td>3</td>\n",
       "      <td>2020-01-02 19:27:00</td>\n",
       "      <td>318758952</td>\n",
       "      <td>8</td>\n",
       "    </tr>\n",
       "    <tr>\n",
       "      <td>4</td>\n",
       "      <td>2020-01-02 21:42:19</td>\n",
       "      <td>189933311</td>\n",
       "      <td>0</td>\n",
       "    </tr>\n",
       "  </tbody>\n",
       "</table>\n",
       "</div>"
      ],
      "text/plain": [
       "           event_date    user_id  score\n",
       "0 2020-01-01 19:00:51  290067447      8\n",
       "1 2020-01-02 17:34:43  223014806     10\n",
       "2 2020-01-02 19:11:55  187864388     10\n",
       "3 2020-01-02 19:27:00  318758952      8\n",
       "4 2020-01-02 21:42:19  189933311      0"
      ]
     },
     "execution_count": 1,
     "metadata": {},
     "output_type": "execute_result"
    }
   ],
   "source": [
    "import pandas as pd\n",
    "\n",
    "df = pd.read_csv(\"nps.csv\", parse_dates=[\"event_date\"])\n",
    "df.head()"
   ]
  },
  {
   "cell_type": "code",
   "execution_count": 2,
   "metadata": {},
   "outputs": [
    {
     "name": "stdout",
     "output_type": "stream",
     "text": [
      "<class 'pandas.core.frame.DataFrame'>\n",
      "RangeIndex: 3326 entries, 0 to 3325\n",
      "Data columns (total 3 columns):\n",
      "event_date    3326 non-null datetime64[ns]\n",
      "user_id       3326 non-null int64\n",
      "score         3326 non-null int64\n",
      "dtypes: datetime64[ns](1), int64(2)\n",
      "memory usage: 78.1 KB\n"
     ]
    }
   ],
   "source": [
    "df.info()"
   ]
  },
  {
   "cell_type": "code",
   "execution_count": 4,
   "metadata": {},
   "outputs": [
    {
     "data": {
      "text/html": [
       "<div>\n",
       "<style scoped>\n",
       "    .dataframe tbody tr th:only-of-type {\n",
       "        vertical-align: middle;\n",
       "    }\n",
       "\n",
       "    .dataframe tbody tr th {\n",
       "        vertical-align: top;\n",
       "    }\n",
       "\n",
       "    .dataframe thead th {\n",
       "        text-align: right;\n",
       "    }\n",
       "</style>\n",
       "<table border=\"1\" class=\"dataframe\">\n",
       "  <thead>\n",
       "    <tr style=\"text-align: right;\">\n",
       "      <th></th>\n",
       "      <th>user_id</th>\n",
       "      <th>score</th>\n",
       "    </tr>\n",
       "  </thead>\n",
       "  <tbody>\n",
       "    <tr>\n",
       "      <td>count</td>\n",
       "      <td>3.326000e+03</td>\n",
       "      <td>3326.000000</td>\n",
       "    </tr>\n",
       "    <tr>\n",
       "      <td>mean</td>\n",
       "      <td>2.709436e+08</td>\n",
       "      <td>8.542995</td>\n",
       "    </tr>\n",
       "    <tr>\n",
       "      <td>std</td>\n",
       "      <td>1.029014e+08</td>\n",
       "      <td>2.016276</td>\n",
       "    </tr>\n",
       "    <tr>\n",
       "      <td>min</td>\n",
       "      <td>6.406331e+07</td>\n",
       "      <td>0.000000</td>\n",
       "    </tr>\n",
       "    <tr>\n",
       "      <td>25%</td>\n",
       "      <td>1.899319e+08</td>\n",
       "      <td>8.000000</td>\n",
       "    </tr>\n",
       "    <tr>\n",
       "      <td>50%</td>\n",
       "      <td>2.892169e+08</td>\n",
       "      <td>9.000000</td>\n",
       "    </tr>\n",
       "    <tr>\n",
       "      <td>75%</td>\n",
       "      <td>3.666392e+08</td>\n",
       "      <td>10.000000</td>\n",
       "    </tr>\n",
       "    <tr>\n",
       "      <td>max</td>\n",
       "      <td>4.441428e+08</td>\n",
       "      <td>10.000000</td>\n",
       "    </tr>\n",
       "  </tbody>\n",
       "</table>\n",
       "</div>"
      ],
      "text/plain": [
       "            user_id        score\n",
       "count  3.326000e+03  3326.000000\n",
       "mean   2.709436e+08     8.542995\n",
       "std    1.029014e+08     2.016276\n",
       "min    6.406331e+07     0.000000\n",
       "25%    1.899319e+08     8.000000\n",
       "50%    2.892169e+08     9.000000\n",
       "75%    3.666392e+08    10.000000\n",
       "max    4.441428e+08    10.000000"
      ]
     },
     "execution_count": 4,
     "metadata": {},
     "output_type": "execute_result"
    }
   ],
   "source": [
    "df.describe()"
   ]
  },
  {
   "cell_type": "code",
   "execution_count": 6,
   "metadata": {},
   "outputs": [],
   "source": [
    "year = df[\"event_date\"].dt.year\n",
    "month = df[\"event_date\"].dt.month\n",
    "df[\"yearmonth\"] = 100*year + month\n",
    "\n",
    "def categorize(score):\n",
    "    \"\"\"Returns NPS category\"\"\"\n",
    "    if score in range(0,7):\n",
    "        return \"Detractor\"\n",
    "    elif score in (7, 8):\n",
    "        return \"Passive\"\n",
    "    elif score in (9,10):\n",
    "        return \"Promoter\"\n",
    "    return None\n",
    "\n",
    "df[\"category\"] = df[\"score\"].apply(categorize)\n",
    "\n",
    "nps = df.pivot_table(index=\"yearmonth\", columns=\"category\", aggfunc=\"size\")\n",
    "nps[\"total_responses\"] = nps.sum(axis=\"columns\")\n",
    "nps[\"nps\"] = (nps[\"Promoter\"]-nps[\"Detractor\"])/nps[\"total_responses\"]\n",
    "nps[\"nps\"] = (100*nps[\"nps\"]).astype(int)"
   ]
  },
  {
   "cell_type": "code",
   "execution_count": 7,
   "metadata": {},
   "outputs": [
    {
     "data": {
      "text/html": [
       "<div>\n",
       "<style scoped>\n",
       "    .dataframe tbody tr th:only-of-type {\n",
       "        vertical-align: middle;\n",
       "    }\n",
       "\n",
       "    .dataframe tbody tr th {\n",
       "        vertical-align: top;\n",
       "    }\n",
       "\n",
       "    .dataframe thead th {\n",
       "        text-align: right;\n",
       "    }\n",
       "</style>\n",
       "<table border=\"1\" class=\"dataframe\">\n",
       "  <thead>\n",
       "    <tr style=\"text-align: right;\">\n",
       "      <th>category</th>\n",
       "      <th>Detractor</th>\n",
       "      <th>Passive</th>\n",
       "      <th>Promoter</th>\n",
       "      <th>total_responses</th>\n",
       "      <th>nps</th>\n",
       "    </tr>\n",
       "    <tr>\n",
       "      <th>yearmonth</th>\n",
       "      <th></th>\n",
       "      <th></th>\n",
       "      <th></th>\n",
       "      <th></th>\n",
       "      <th></th>\n",
       "    </tr>\n",
       "  </thead>\n",
       "  <tbody>\n",
       "    <tr>\n",
       "      <td>202001</td>\n",
       "      <td>31</td>\n",
       "      <td>82</td>\n",
       "      <td>215</td>\n",
       "      <td>328</td>\n",
       "      <td>56</td>\n",
       "    </tr>\n",
       "    <tr>\n",
       "      <td>202002</td>\n",
       "      <td>22</td>\n",
       "      <td>90</td>\n",
       "      <td>161</td>\n",
       "      <td>273</td>\n",
       "      <td>50</td>\n",
       "    </tr>\n",
       "    <tr>\n",
       "      <td>202003</td>\n",
       "      <td>33</td>\n",
       "      <td>72</td>\n",
       "      <td>125</td>\n",
       "      <td>230</td>\n",
       "      <td>40</td>\n",
       "    </tr>\n",
       "    <tr>\n",
       "      <td>202004</td>\n",
       "      <td>36</td>\n",
       "      <td>87</td>\n",
       "      <td>178</td>\n",
       "      <td>301</td>\n",
       "      <td>47</td>\n",
       "    </tr>\n",
       "    <tr>\n",
       "      <td>202005</td>\n",
       "      <td>33</td>\n",
       "      <td>83</td>\n",
       "      <td>191</td>\n",
       "      <td>307</td>\n",
       "      <td>51</td>\n",
       "    </tr>\n",
       "    <tr>\n",
       "      <td>202006</td>\n",
       "      <td>32</td>\n",
       "      <td>80</td>\n",
       "      <td>215</td>\n",
       "      <td>327</td>\n",
       "      <td>55</td>\n",
       "    </tr>\n",
       "    <tr>\n",
       "      <td>202007</td>\n",
       "      <td>48</td>\n",
       "      <td>95</td>\n",
       "      <td>258</td>\n",
       "      <td>401</td>\n",
       "      <td>52</td>\n",
       "    </tr>\n",
       "    <tr>\n",
       "      <td>202008</td>\n",
       "      <td>40</td>\n",
       "      <td>103</td>\n",
       "      <td>256</td>\n",
       "      <td>399</td>\n",
       "      <td>54</td>\n",
       "    </tr>\n",
       "    <tr>\n",
       "      <td>202009</td>\n",
       "      <td>18</td>\n",
       "      <td>68</td>\n",
       "      <td>135</td>\n",
       "      <td>221</td>\n",
       "      <td>52</td>\n",
       "    </tr>\n",
       "    <tr>\n",
       "      <td>202010</td>\n",
       "      <td>36</td>\n",
       "      <td>83</td>\n",
       "      <td>177</td>\n",
       "      <td>296</td>\n",
       "      <td>47</td>\n",
       "    </tr>\n",
       "    <tr>\n",
       "      <td>202011</td>\n",
       "      <td>18</td>\n",
       "      <td>27</td>\n",
       "      <td>72</td>\n",
       "      <td>117</td>\n",
       "      <td>46</td>\n",
       "    </tr>\n",
       "    <tr>\n",
       "      <td>202012</td>\n",
       "      <td>22</td>\n",
       "      <td>42</td>\n",
       "      <td>62</td>\n",
       "      <td>126</td>\n",
       "      <td>31</td>\n",
       "    </tr>\n",
       "  </tbody>\n",
       "</table>\n",
       "</div>"
      ],
      "text/plain": [
       "category   Detractor  Passive  Promoter  total_responses  nps\n",
       "yearmonth                                                    \n",
       "202001            31       82       215              328   56\n",
       "202002            22       90       161              273   50\n",
       "202003            33       72       125              230   40\n",
       "202004            36       87       178              301   47\n",
       "202005            33       83       191              307   51\n",
       "202006            32       80       215              327   55\n",
       "202007            48       95       258              401   52\n",
       "202008            40      103       256              399   54\n",
       "202009            18       68       135              221   52\n",
       "202010            36       83       177              296   47\n",
       "202011            18       27        72              117   46\n",
       "202012            22       42        62              126   31"
      ]
     },
     "execution_count": 7,
     "metadata": {},
     "output_type": "execute_result"
    }
   ],
   "source": [
    "nps"
   ]
  },
  {
   "cell_type": "code",
   "execution_count": 8,
   "metadata": {},
   "outputs": [
    {
     "data": {
      "text/plain": [
       "category\n",
       "Detractor           48\n",
       "Passive            103\n",
       "Promoter           258\n",
       "total_responses    401\n",
       "nps                 56\n",
       "dtype: int64"
      ]
     },
     "execution_count": 8,
     "metadata": {},
     "output_type": "execute_result"
    }
   ],
   "source": [
    "nps.max()"
   ]
  },
  {
   "cell_type": "code",
   "execution_count": 9,
   "metadata": {},
   "outputs": [
    {
     "data": {
      "text/plain": [
       "Text(0.5, 0, '')"
      ]
     },
     "execution_count": 9,
     "metadata": {},
     "output_type": "execute_result"
    }
   ],
   "source": [
    "ax = nps.reset_index().plot(kind=\"line\", x=\"yearmonth\",y=\"nps\",\n",
    "                            figsize=(12,6), legend=False\n",
    "                           )\n",
    "ax.set_xticks(nps.index)\n",
    "ax.set_xticklabels(nps.index, rotation=45)\n",
    "ax.axes.get_xaxis().set_label_text(\"\")"
   ]
  },
  {
   "cell_type": "code",
   "execution_count": 14,
   "metadata": {},
   "outputs": [],
   "source": [
    "subs = pd.read_csv(\"muscle_labs.csv\", parse_dates=[\"end_date\", \"start_date\"])\n",
    "subs[\"churn_month\"] = subs[\"end_date\"].dt.year*100 + subs[\"end_date\"].dt.month\n",
    "monthly_churn = pd.DataFrame({\"total_churned\": subs.groupby(\"churn_month\").size()})"
   ]
  },
  {
   "cell_type": "code",
   "execution_count": 15,
   "metadata": {},
   "outputs": [],
   "source": [
    "years = list(range(2011,2015))\n",
    "months = list(range(1,13))\n",
    "yearmonths = [y*100+m for y in years for m in months]\n",
    "yearmonths = yearmonths[:-1]\n",
    "\n",
    "churn = pd.DataFrame({\"yearmonth\": yearmonths})\n",
    "\n",
    "years = list(range(2011,2015))\n",
    "months = list(range(1,13))\n",
    "yearmonths = [y*100+m for y in years for m in months]\n",
    "yearmonths = yearmonths[:-1]\n",
    "\n",
    "churn = pd.DataFrame({\"yearmonth\": yearmonths})\n",
    "churn = pd.merge(churn, monthly_churn, \"left\", left_on=\"yearmonth\", right_index=True)\n",
    "churn.fillna(0, inplace=True)\n",
    "churn[\"total_churned\"] = churn[\"total_churned\"].astype(int)"
   ]
  },
  {
   "cell_type": "code",
   "execution_count": 17,
   "metadata": {},
   "outputs": [
    {
     "data": {
      "text/plain": [
       "yearmonth        201411\n",
       "total_churned       159\n",
       "dtype: int64"
      ]
     },
     "execution_count": 17,
     "metadata": {},
     "output_type": "execute_result"
    }
   ],
   "source": [
    "churn.max()"
   ]
  },
  {
   "cell_type": "code",
   "execution_count": 19,
   "metadata": {},
   "outputs": [
    {
     "data": {
      "image/png": "[encoded data removed]",
      "text/plain": [
       "<Figure size 864x432 with 1 Axes>"
      ]
     },
     "metadata": {
      "needs_background": "light"
     },
     "output_type": "display_data"
    }
   ],
   "source": [
    "import datetime as dt\n",
    "\n",
    "def get_customers(yearmonth):\n",
    "    year = yearmonth//100\n",
    "    month = yearmonth-year*100\n",
    "    date = dt.datetime(year, month, 1)\n",
    "    \n",
    "    return ((subs[\"start_date\"] < date) & (date <= subs[\"end_date\"])).sum()\n",
    "\n",
    "churn[\"total_customers\"] = churn[\"yearmonth\"].apply(get_customers)\n",
    "churn[\"churn_rate\"] = churn[\"total_churned\"] / churn[\"total_customers\"]\n",
    "churn[\"yearmonth\"] = churn[\"yearmonth\"].astype(str)\n",
    "\n",
    "arange = __import__(\"numpy\").arange\n",
    "Ellipse = __import__(\"matplotlib\").patches.Ellipse\n",
    "ax = churn.plot(x=\"yearmonth\", y=\"churn_rate\", figsize=(12,6), rot=45, marker=\".\")\n",
    "start, end = ax.get_xlim()\n",
    "ax.get_xticks()\n",
    "ax.set_xticks(arange(2, end, 3))\n",
    "ax.set_xticklabels(yearmonths[2::3])\n",
    "circle = Ellipse((35, churn.loc[churn.yearmonth == \"201312\", \"churn_rate\"].iloc[0]),\n",
    "                 5, 0.065, color='sandybrown', fill=False\n",
    "                   )\n",
    "ax.add_artist(circle)\n",
    "ax.xaxis.label.set_visible(False)\n",
    "ax.spines['top'].set_visible(False)\n",
    "ax.spines['right'].set_visible(False)\n",
    "ax.get_legend().remove()"
   ]
  },
  {
   "cell_type": "code",
   "execution_count": null,
   "metadata": {},
   "outputs": [],
   "source": []
  }
 ],
 "metadata": {
  "kernelspec": {
   "display_name": "Python 3",
   "language": "python",
   "name": "python3"
  },
  "language_info": {
   "codemirror_mode": {
    "name": "ipython",
    "version": 3
   },
   "file_extension": ".py",
   "mimetype": "text/x-python",
   "name": "python",
   "nbconvert_exporter": "python",
   "pygments_lexer": "ipython3",
   "version": "3.7.4"
  }
 },
 "nbformat": 4,
 "nbformat_minor": 2
}
