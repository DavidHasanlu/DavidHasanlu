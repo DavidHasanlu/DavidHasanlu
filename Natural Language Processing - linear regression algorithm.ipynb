{
 "cells": [
  {
   "cell_type": "markdown",
   "metadata": {},
   "source": [
    "Our goal is to train a linear regression algorithm that predicts the number of upvotes a headline would receive"
   ]
  },
  {
   "cell_type": "markdown",
   "metadata": {},
   "source": [
    "we'll use a bag of words model."
   ]
  },
  {
   "cell_type": "markdown",
   "metadata": {},
   "source": [
    "To reduce the number of features and enable the linear regression model to make better predictions, we'll remove any words that occur fewer than 5 times or more than 100 times."
   ]
  },
  {
   "cell_type": "markdown",
   "metadata": {},
   "source": [
    "the model is determining which words correlate with more upvotes, and which with less. By finding these correlations, the model will be able to predict which headlines will be highly upvoted in the future."
   ]
  },
  {
   "cell_type": "code",
   "execution_count": 1,
   "metadata": {},
   "outputs": [],
   "source": [
    "import pandas as pd\n",
    "submissions = pd.read_csv(\"sel_hn_stories.csv\")\n",
    "submissions.columns = [\"submission_time\", \"upvotes\", \"url\", \"headline\"]\n",
    "submissions = submissions.dropna()"
   ]
  },
  {
   "cell_type": "code",
   "execution_count": 2,
   "metadata": {},
   "outputs": [
    {
     "data": {
      "text/html": [
       "<div>\n",
       "<style scoped>\n",
       "    .dataframe tbody tr th:only-of-type {\n",
       "        vertical-align: middle;\n",
       "    }\n",
       "\n",
       "    .dataframe tbody tr th {\n",
       "        vertical-align: top;\n",
       "    }\n",
       "\n",
       "    .dataframe thead th {\n",
       "        text-align: right;\n",
       "    }\n",
       "</style>\n",
       "<table border=\"1\" class=\"dataframe\">\n",
       "  <thead>\n",
       "    <tr style=\"text-align: right;\">\n",
       "      <th></th>\n",
       "      <th>submission_time</th>\n",
       "      <th>upvotes</th>\n",
       "      <th>url</th>\n",
       "      <th>headline</th>\n",
       "    </tr>\n",
       "  </thead>\n",
       "  <tbody>\n",
       "    <tr>\n",
       "      <td>0</td>\n",
       "      <td>2010-02-17T16:57:59Z</td>\n",
       "      <td>1</td>\n",
       "      <td>blog.jonasbandi.net</td>\n",
       "      <td>Software: Sadly we did adopt from the construc...</td>\n",
       "    </tr>\n",
       "    <tr>\n",
       "      <td>1</td>\n",
       "      <td>2014-02-04T02:36:30Z</td>\n",
       "      <td>1</td>\n",
       "      <td>blogs.wsj.com</td>\n",
       "      <td>Google’s Stock Split Means More Control for L...</td>\n",
       "    </tr>\n",
       "    <tr>\n",
       "      <td>2</td>\n",
       "      <td>2011-10-26T07:11:29Z</td>\n",
       "      <td>1</td>\n",
       "      <td>threatpost.com</td>\n",
       "      <td>SSL DOS attack tool released exploiting negoti...</td>\n",
       "    </tr>\n",
       "    <tr>\n",
       "      <td>3</td>\n",
       "      <td>2011-04-03T15:43:44Z</td>\n",
       "      <td>67</td>\n",
       "      <td>algorithm.com.au</td>\n",
       "      <td>Immutability and Blocks Lambdas and Closures</td>\n",
       "    </tr>\n",
       "    <tr>\n",
       "      <td>4</td>\n",
       "      <td>2013-01-13T16:49:20Z</td>\n",
       "      <td>1</td>\n",
       "      <td>winmacsofts.com</td>\n",
       "      <td>Comment optimiser la vitesse de Wordpress?</td>\n",
       "    </tr>\n",
       "    <tr>\n",
       "      <td>...</td>\n",
       "      <td>...</td>\n",
       "      <td>...</td>\n",
       "      <td>...</td>\n",
       "      <td>...</td>\n",
       "    </tr>\n",
       "    <tr>\n",
       "      <td>2994</td>\n",
       "      <td>2015-03-23T18:46:53.000Z</td>\n",
       "      <td>1</td>\n",
       "      <td>ondras.github.io</td>\n",
       "      <td>Rot.js: ROguelike Toolkit in JavaScript</td>\n",
       "    </tr>\n",
       "    <tr>\n",
       "      <td>2995</td>\n",
       "      <td>2010-03-11T19:52:37Z</td>\n",
       "      <td>40</td>\n",
       "      <td>economist.com</td>\n",
       "      <td>Amazon auctions computing power: Clouds under ...</td>\n",
       "    </tr>\n",
       "    <tr>\n",
       "      <td>2996</td>\n",
       "      <td>2015-04-03T18:07:13.000Z</td>\n",
       "      <td>2</td>\n",
       "      <td>computerworld.com</td>\n",
       "      <td>Nissan CEO: We will have an autonomous vehicle...</td>\n",
       "    </tr>\n",
       "    <tr>\n",
       "      <td>2997</td>\n",
       "      <td>2013-07-17T21:54:41Z</td>\n",
       "      <td>2</td>\n",
       "      <td>blog.pythonlibrary.org</td>\n",
       "      <td>Connecting to Dropbox with Python</td>\n",
       "    </tr>\n",
       "    <tr>\n",
       "      <td>2998</td>\n",
       "      <td>2011-04-04T23:43:48Z</td>\n",
       "      <td>1</td>\n",
       "      <td>bitly.com</td>\n",
       "      <td>Crowdsourcing disaster response What we learn ...</td>\n",
       "    </tr>\n",
       "  </tbody>\n",
       "</table>\n",
       "<p>2800 rows × 4 columns</p>\n",
       "</div>"
      ],
      "text/plain": [
       "               submission_time  upvotes                     url  \\\n",
       "0         2010-02-17T16:57:59Z        1     blog.jonasbandi.net   \n",
       "1         2014-02-04T02:36:30Z        1           blogs.wsj.com   \n",
       "2         2011-10-26T07:11:29Z        1          threatpost.com   \n",
       "3         2011-04-03T15:43:44Z       67        algorithm.com.au   \n",
       "4         2013-01-13T16:49:20Z        1         winmacsofts.com   \n",
       "...                        ...      ...                     ...   \n",
       "2994  2015-03-23T18:46:53.000Z        1        ondras.github.io   \n",
       "2995      2010-03-11T19:52:37Z       40           economist.com   \n",
       "2996  2015-04-03T18:07:13.000Z        2       computerworld.com   \n",
       "2997      2013-07-17T21:54:41Z        2  blog.pythonlibrary.org   \n",
       "2998      2011-04-04T23:43:48Z        1               bitly.com   \n",
       "\n",
       "                                               headline  \n",
       "0     Software: Sadly we did adopt from the construc...  \n",
       "1      Google’s Stock Split Means More Control for L...  \n",
       "2     SSL DOS attack tool released exploiting negoti...  \n",
       "3          Immutability and Blocks Lambdas and Closures  \n",
       "4            Comment optimiser la vitesse de Wordpress?  \n",
       "...                                                 ...  \n",
       "2994            Rot.js: ROguelike Toolkit in JavaScript  \n",
       "2995  Amazon auctions computing power: Clouds under ...  \n",
       "2996  Nissan CEO: We will have an autonomous vehicle...  \n",
       "2997                  Connecting to Dropbox with Python  \n",
       "2998  Crowdsourcing disaster response What we learn ...  \n",
       "\n",
       "[2800 rows x 4 columns]"
      ]
     },
     "execution_count": 2,
     "metadata": {},
     "output_type": "execute_result"
    }
   ],
   "source": [
    "submissions"
   ]
  },
  {
   "cell_type": "code",
   "execution_count": 8,
   "metadata": {},
   "outputs": [],
   "source": [
    "tokenized_headlines = []\n",
    "for item in submissions[\"headline\"]:\n",
    "    tokenized_headlines.append(item.split())"
   ]
  },
  {
   "cell_type": "code",
   "execution_count": 9,
   "metadata": {},
   "outputs": [],
   "source": [
    "punctuation = [\",\", \":\", \";\", \".\", \"'\", '\"', \"’\", \"?\", \"/\", \"-\", \"+\", \"&\", \"(\", \")\"]\n",
    "clean_tokenized = []\n",
    "for item in tokenized_headlines:\n",
    "    tokens = []\n",
    "    for token in item:\n",
    "        token = token.lower()\n",
    "        for punc in punctuation:\n",
    "            token = token.replace(punc, \"\")\n",
    "        tokens.append(token)\n",
    "    clean_tokenized.append(tokens)"
   ]
  },
  {
   "cell_type": "code",
   "execution_count": 10,
   "metadata": {},
   "outputs": [],
   "source": [
    "import numpy as np\n",
    "unique_tokens = []\n",
    "single_tokens = []\n",
    "\n",
    "for tokens in clean_tokenized:\n",
    "    for token in tokens:\n",
    "        if token not in single_tokens:\n",
    "            single_tokens.append(token)\n",
    "        elif token in single_tokens and token not in unique_tokens:\n",
    "            unique_tokens.append(token)\n",
    "\n",
    "counts = pd.DataFrame(0, index=np.arange(len(clean_tokenized)), columns=unique_tokens)"
   ]
  },
  {
   "cell_type": "code",
   "execution_count": 11,
   "metadata": {},
   "outputs": [],
   "source": [
    "for i, item in enumerate(clean_tokenized):\n",
    "    for token in item:\n",
    "        if token in unique_tokens:\n",
    "            counts.iloc[i][token] += 1"
   ]
  },
  {
   "cell_type": "code",
   "execution_count": 14,
   "metadata": {},
   "outputs": [],
   "source": [
    "# We've already loaded in clean_tokenized and counts\n",
    "word_counts = counts.sum(axis=0)\n",
    "\n",
    "counts = counts.loc[:,(word_counts >= 5) & (word_counts <= 100)]"
   ]
  },
  {
   "cell_type": "code",
   "execution_count": 16,
   "metadata": {},
   "outputs": [
    {
     "data": {
      "text/plain": [
       "as              47\n",
       "you            100\n",
       "good            13\n",
       "what            62\n",
       "de               9\n",
       "              ... \n",
       "sale             5\n",
       "competition      5\n",
       "diet             6\n",
       "reasons          5\n",
       "nike             7\n",
       "Length: 661, dtype: int64"
      ]
     },
     "execution_count": 16,
     "metadata": {},
     "output_type": "execute_result"
    }
   ],
   "source": [
    "word_counts"
   ]
  },
  {
   "cell_type": "code",
   "execution_count": 17,
   "metadata": {},
   "outputs": [],
   "source": [
    "from sklearn.model_selection import train_test_split\n",
    "\n",
    "X_train, X_test, y_train, y_test = train_test_split(counts, submissions[\"upvotes\"], test_size=0.2, random_state=1)"
   ]
  },
  {
   "cell_type": "code",
   "execution_count": 18,
   "metadata": {},
   "outputs": [],
   "source": [
    "from sklearn.linear_model import LinearRegression\n",
    "\n",
    "clf = LinearRegression()\n",
    "clf.fit(X_train, y_train)\n",
    "\n",
    "predictions = clf.predict(X_test)"
   ]
  },
  {
   "cell_type": "code",
   "execution_count": 21,
   "metadata": {},
   "outputs": [
    {
     "data": {
      "text/plain": [
       "array([ 2.17690686e+01,  6.35049729e+01, -1.67007237e+01,  1.67866575e+01,\n",
       "       -1.97586441e+00,  3.44558067e+01, -4.49860607e+01,  1.41788903e+01,\n",
       "        1.53594595e+01,  4.82887218e+00,  2.25350723e+00,  4.98527927e+01,\n",
       "        1.10696859e+01,  3.78096656e+01,  1.10326030e+01, -1.90095575e-01,\n",
       "        1.10326030e+01,  3.72920816e+00, -1.40047322e+01,  3.48050765e+01,\n",
       "        6.43508350e+01,  1.10326030e+01,  2.44084956e+01,  1.10326030e+01,\n",
       "        2.02609640e+01,  2.36476055e+00,  1.10326030e+01,  2.26720526e+00,\n",
       "        2.22436673e+01,  2.66568210e+00, -3.47492521e+00, -4.72847975e+01,\n",
       "        3.67933060e+00,  1.09959656e+02,  9.91904416e+00,  4.43886626e+01,\n",
       "        9.00963982e+00, -2.17246247e+01,  2.92874561e+01, -7.08448438e+00,\n",
       "        5.38368177e+01, -2.67775578e+00,  3.52360958e+01,  2.15580590e+01,\n",
       "        1.10326030e+01,  2.07073523e+01, -1.06418175e+01,  1.10326030e+01,\n",
       "        1.72869227e+01, -1.39319454e+01, -1.55296118e+01,  1.23604698e+01,\n",
       "       -5.10036138e+00,  1.10326030e+01,  1.10326030e+01, -1.06795758e+01,\n",
       "        2.56007188e+01,  2.70652122e+01,  9.53182447e+00,  2.12059356e+01,\n",
       "       -6.39424491e-02,  2.30081982e+01,  3.91886462e+01,  4.56634542e+01,\n",
       "       -1.98787674e+00,  6.13368558e+00, -1.50163219e+00,  2.25448527e+01,\n",
       "        5.42501314e+01, -1.42570719e+01,  1.01133130e+01,  4.62229479e+01,\n",
       "       -2.52566175e+01,  2.34399432e+01, -8.04609610e+00,  2.32999959e+01,\n",
       "        1.86394478e+00,  1.33286402e+01, -5.12564595e+00, -2.54606139e+01,\n",
       "        1.49644438e+01,  4.64399381e+01,  3.60590440e+00,  2.01839788e+01,\n",
       "        5.44726171e+00, -1.16265606e+01,  6.82504960e+01, -1.39341304e+01,\n",
       "       -7.01200022e+00,  3.74807325e+01, -7.21529234e+00,  1.10326030e+01,\n",
       "       -1.66704701e+01,  8.94654705e+00,  1.73378208e+00, -1.20641235e+01,\n",
       "        2.77684824e+00,  1.80734425e+01,  3.52139395e+01,  1.54966150e+01,\n",
       "        3.73244081e+01,  7.38791293e+01,  3.64562056e+00,  9.17576087e+00,\n",
       "        1.64331834e+01,  5.46207656e+00, -4.24317967e-01, -1.40463218e+01,\n",
       "        2.60765421e+00,  2.79423433e+01,  7.63890090e+01,  5.29808007e+01,\n",
       "        1.45339241e+01,  1.10326030e+01, -1.06795758e+01,  1.51212187e+01,\n",
       "       -4.69203563e+00,  3.91565120e+01,  2.99966043e+01,  1.53594595e+01,\n",
       "        1.21668147e+01, -4.49319334e+00,  1.44949895e+01,  4.04818356e+00,\n",
       "        5.82819875e+00, -1.12935223e+01,  1.23164842e+01, -1.03468723e+01,\n",
       "        1.07924107e+01, -3.64167977e+01,  1.64510399e+01, -1.00750745e+01,\n",
       "        6.64810415e+01,  5.57923097e-01, -2.17701730e+01, -5.36858745e+01,\n",
       "        7.58940653e+00, -1.60616614e+01, -7.75125532e+00, -4.73973014e+00,\n",
       "       -1.83481299e+01,  7.99369791e+00, -6.40193581e+00,  1.50131525e+01,\n",
       "       -1.06604495e+01,  1.81740444e+01,  1.10326030e+01,  1.10326030e+01,\n",
       "       -3.28241496e+00, -1.01446834e+01,  1.10326030e+01,  3.98493899e+00,\n",
       "       -2.27731147e+00,  1.60220576e+01,  2.01465618e+01, -1.90549429e+01,\n",
       "       -3.93268043e+00,  4.18620367e+01, -8.80418091e+01,  1.81229245e+00,\n",
       "        5.20198701e+00,  4.18827158e+00,  1.86031331e+02,  1.38053149e+01,\n",
       "       -5.06335277e-02,  1.10326030e+01,  1.10326030e+01,  1.10326030e+01,\n",
       "       -1.18463427e+01,  1.68172868e+01,  1.52146178e+01,  3.92737398e+01,\n",
       "        1.10326030e+01, -2.12216074e+00, -6.79733999e+00,  1.27838757e+01,\n",
       "        1.24194255e+01, -2.34174126e+01,  7.65187449e+00,  2.46672303e+01,\n",
       "       -3.81991064e+00, -2.30533253e+01, -7.63536831e+01, -4.77542280e+00,\n",
       "       -3.46347724e+01,  5.49816156e+00, -3.99678261e+01,  2.32490674e+00,\n",
       "        4.46496795e+01,  6.85177520e+01,  2.22377429e+01,  1.84964563e+01,\n",
       "        6.54366457e+00, -3.77221796e+01, -1.48742304e+01,  1.35902679e+00,\n",
       "       -8.25970105e+00, -6.36961387e+00,  1.52387717e+01,  1.15129488e+01,\n",
       "        6.68703570e+00,  1.90312988e-02,  4.80855883e+00,  7.45810132e+00,\n",
       "        7.92665239e+00,  1.06609039e+01, -2.35672080e+01,  8.98636541e+00,\n",
       "       -1.90751081e+00, -1.57372845e+01, -4.24437615e+00,  4.60569610e+00,\n",
       "       -7.76888940e-01,  3.69802960e+00,  2.65000748e+01,  9.04389623e+00,\n",
       "        4.74561848e+01,  1.10326030e+01,  8.37247247e+00,  1.14857199e+01,\n",
       "       -8.49093586e+00, -1.50153227e+01,  5.56940389e+01, -5.28496732e+00,\n",
       "        7.75069869e+00,  1.40513612e+01,  2.07130758e+00,  1.40395348e+01,\n",
       "       -8.29772115e+00,  2.53542663e+01,  9.46091090e+00,  5.99143668e-01,\n",
       "        1.10326030e+01,  1.00930051e+02, -9.55841862e-01, -2.46061899e+01,\n",
       "        4.35092221e+01,  4.34977098e-01,  2.69759833e+01,  4.88169220e+01,\n",
       "       -1.05943960e+01,  2.80444905e+01,  3.80125134e+00, -4.81433656e+01,\n",
       "       -3.81091144e-01,  1.45916291e+00, -3.95871430e+01,  1.10326030e+01,\n",
       "       -1.47009026e+01,  1.32344595e+01, -4.91802118e+00,  1.15890139e+01,\n",
       "        6.99521375e+01,  3.05992655e-01,  5.68225617e+01,  3.08473099e+01,\n",
       "       -1.01218759e+01,  1.44767421e+01, -5.45320566e+00, -7.12762881e+01,\n",
       "        1.10326030e+01,  1.10326030e+01,  3.26664953e+01,  1.16212082e+01,\n",
       "        7.64463110e+00,  1.62291941e+01,  3.36584514e+01,  3.44363766e+01,\n",
       "       -1.24065120e+01,  8.17998035e+00, -8.08715541e+00,  2.47194047e+00,\n",
       "        1.10326030e+01,  2.12188271e+00, -1.10807837e+01,  1.95863536e+01,\n",
       "        2.14808457e+01,  6.67966862e-01, -1.02576453e+01,  5.55078707e+00,\n",
       "       -1.74327623e+01, -5.56975380e+01,  1.44615276e+01,  5.34115319e+01,\n",
       "        5.39516627e+00, -3.67928295e+00, -4.69838069e-01,  6.78670467e+00,\n",
       "       -5.36904150e+01, -1.39150883e+01,  3.18744200e-01,  1.42310446e+01,\n",
       "        2.20349479e+01,  1.18448025e+01, -1.43513267e+01,  2.11886963e+01,\n",
       "        1.10326030e+01,  3.85545618e+01, -7.77822019e+00, -4.58007106e+01,\n",
       "       -2.06809704e+01,  7.73740713e+00, -3.08557575e+00,  3.78948890e+00,\n",
       "        6.07749591e+00, -6.88279625e+00,  2.38923831e+01,  3.11760269e+01,\n",
       "        3.24106060e+01, -2.89957779e+00, -6.61124733e+00,  1.33936105e+01,\n",
       "        1.10219071e+01, -1.99572856e+01,  1.19903559e+01,  3.00687375e+00,\n",
       "        1.55575871e+01, -2.42900739e+00, -3.84689018e+01,  2.01192421e+01,\n",
       "       -2.53923588e+00,  3.06590765e+01,  3.03072008e+00,  3.12223009e+01,\n",
       "        4.18230964e+01, -6.51698926e+01, -1.18699527e+01,  1.10326030e+01,\n",
       "        1.15072300e+01,  6.19846523e+00, -2.51687658e+01,  9.29967639e+00,\n",
       "        2.40295278e+01,  1.80986853e+01,  2.80192271e+00,  7.10851525e+01,\n",
       "        7.66174501e+01, -2.92475403e+01, -3.70191233e+01, -2.21375942e+00,\n",
       "       -1.27930777e+01, -5.08819659e+01,  1.15129936e+01, -1.51676003e+01,\n",
       "        9.29967639e+00,  1.10326030e+01,  1.10326030e+01,  1.10326030e+01,\n",
       "       -2.12882365e+01,  8.46944876e+00, -1.02236924e+01,  3.29536587e+01,\n",
       "       -2.60281440e+01, -8.65123812e+00, -2.35944689e+01,  1.96854547e+01,\n",
       "        1.63970999e+01, -8.36957339e+00, -6.86433338e+00, -4.18094355e-01,\n",
       "        1.28078089e+01, -2.37240790e+00,  2.33409992e+00, -4.39434887e+00,\n",
       "        1.10326030e+01,  2.15562852e+01,  9.43084285e+00, -1.33208319e+01,\n",
       "        2.73700021e+01, -1.61997379e+01,  8.26181415e+00,  9.92842456e+00,\n",
       "        8.26538229e+00,  4.87912929e+01, -4.20792877e+01, -1.35218978e+01,\n",
       "        1.75418994e+01,  6.42156613e+00,  1.15415739e+01, -1.39155810e+01,\n",
       "        7.75268382e+00,  1.10326030e+01,  2.92734949e+01, -2.35769607e+01,\n",
       "       -2.07230335e+01,  1.23604698e+01, -2.63639292e+01,  1.08614778e+01,\n",
       "        1.51963429e+01,  1.07120168e+02,  4.69278722e+00,  4.08619086e+00,\n",
       "       -6.24589112e+00,  6.68703570e+00,  5.94467224e+01, -1.37444794e+01,\n",
       "        1.30484346e+01, -2.73962934e+01,  9.86915663e+00,  6.10864709e+01,\n",
       "       -1.60828060e+01, -1.12545976e+01,  4.01329027e+01,  1.51850358e+01,\n",
       "       -1.65828267e+01,  1.43926358e+01,  4.53170067e+01,  1.29248342e+01,\n",
       "        1.99611344e+02, -6.74055897e+00,  1.67697446e+01, -7.93980045e+00,\n",
       "       -8.31423009e+00,  3.76423844e+01,  6.00221855e+00,  9.20801087e+01,\n",
       "        2.87426683e+01,  4.68680012e+00,  1.24931320e+01,  2.15436493e+01,\n",
       "        3.03110429e+00,  5.15157148e+01,  8.19051006e+00, -7.83910093e+00,\n",
       "        2.51677691e+01, -1.12577470e+01, -9.38722698e+00,  1.10326030e+01,\n",
       "        3.70406802e+01,  1.10326030e+01, -1.71327617e+01,  4.83216816e+01,\n",
       "        9.17576087e+00, -7.05789133e+00,  1.17567034e+01,  1.10326030e+01,\n",
       "        4.10421266e+01,  1.10326030e+01,  4.20292267e+01,  1.01676771e+01,\n",
       "       -6.88971143e+00,  2.04358102e+01, -1.55071822e+01, -4.65352528e+01,\n",
       "        1.03197917e+00,  4.31412804e+01, -4.05900454e+01,  1.10326030e+01,\n",
       "        4.43828818e+01,  7.86334451e+01,  1.48832347e+01,  2.36291738e+01,\n",
       "        5.43182660e+00,  1.73237240e+01, -2.33638956e+01,  1.10326030e+01,\n",
       "        1.10326030e+01,  3.09635627e+01,  8.34003389e+01,  1.54996586e+00,\n",
       "       -2.72073743e+00,  7.34933712e+00, -3.38090687e+01,  1.15415739e+01,\n",
       "       -2.51665810e+01,  1.23167307e+01,  3.93878142e+00,  6.06062836e+00,\n",
       "        2.28665571e+01,  1.43170650e-01,  4.71251468e+01, -4.55326116e+01,\n",
       "        4.80556822e+00,  1.46627846e+01,  4.59604539e+01,  2.55021181e+00,\n",
       "        1.73860980e+01,  1.00740710e+01,  1.10326030e+01,  1.10326030e+01,\n",
       "       -2.31932296e+01,  5.54935489e+01,  1.10326030e+01, -3.35327699e+00,\n",
       "        1.60882639e+01, -1.10718476e+01,  4.15852731e+00,  2.41014544e+01,\n",
       "       -3.31575486e+01, -1.08411104e+00,  3.96810416e+00, -8.39919754e+00,\n",
       "        7.16979839e+00,  2.07286449e-01,  7.34516760e+00,  4.24865168e+00,\n",
       "        3.09983132e+01, -1.91097722e+01,  1.10326030e+01, -9.30938697e-01,\n",
       "       -1.24119514e-01, -6.11262866e+00, -8.32074609e+00,  1.74405172e+01,\n",
       "        7.12916321e+00,  1.10326030e+01, -6.22317998e-01,  1.96500160e+00,\n",
       "       -1.09097148e+01, -8.17464358e+00, -2.75681640e+01,  2.84570065e+01,\n",
       "        8.71204878e+00,  1.53594595e+01,  2.68396443e+01,  1.10326030e+01,\n",
       "        1.02632602e+01,  1.10326030e+01,  1.10326030e+01,  1.60261890e+01,\n",
       "        1.10326030e+01,  1.68947606e+01,  4.84308855e+00, -7.88163014e+00,\n",
       "        9.42180289e+00,  2.56292245e+01,  2.60676998e+01,  1.14037021e+01,\n",
       "        2.44139291e+01,  2.24180345e+00,  9.65453005e+00,  1.18622348e+01,\n",
       "       -1.69851265e+01, -8.90285258e+00,  2.25350723e+00,  1.08951358e+01,\n",
       "        9.57655535e+00, -1.71551701e+01,  2.85316337e+01,  8.35524070e+01,\n",
       "       -4.32016252e+01, -6.39424491e-02,  2.90438998e+01, -5.04219804e+01,\n",
       "       -9.55841862e-01, -8.18711276e+00,  2.80081376e+01, -8.25970105e+00,\n",
       "        1.09864162e+01,  3.25312328e-02,  1.83527128e+00,  7.62370773e+01,\n",
       "        1.10326030e+01, -2.32518821e+01, -9.48792840e+00,  3.54687338e+00,\n",
       "       -1.34657540e+01,  6.78676574e+00,  4.53028412e+01, -2.80181701e+01])"
      ]
     },
     "execution_count": 21,
     "metadata": {},
     "output_type": "execute_result"
    }
   ],
   "source": [
    "predictions"
   ]
  },
  {
   "cell_type": "markdown",
   "metadata": {},
   "source": [
    "we can calculate our prediction error"
   ]
  },
  {
   "cell_type": "code",
   "execution_count": 22,
   "metadata": {},
   "outputs": [],
   "source": [
    "mse = sum((predictions - y_test) ** 2) / len(predictions)"
   ]
  },
  {
   "cell_type": "code",
   "execution_count": 23,
   "metadata": {},
   "outputs": [
    {
     "data": {
      "text/plain": [
       "2651.1457056689633"
      ]
     },
     "execution_count": 23,
     "metadata": {},
     "output_type": "execute_result"
    }
   ],
   "source": [
    "mse"
   ]
  },
  {
   "cell_type": "markdown",
   "metadata": {},
   "source": [
    " There's no hard and fast rule about what a \"good\" error rate is, because it depends on the problem we're solving and our error tolerance. "
   ]
  },
  {
   "cell_type": "markdown",
   "metadata": {},
   "source": [
    "In this case, the mean number of upvotes is 10, and the standard deviation is 39.5. If we take the square root of our MSE to calculate error in terms of upvotes, we get 51.5. This means that our average error is 51.5 upvotes away from the true value. This is higher than the standard deviation, so our predictions are often far off-base."
   ]
  },
  {
   "cell_type": "markdown",
   "metadata": {},
   "source": [
    "Solutions: \n",
    "    Use the entire data set,\n",
    "    Use a random forest, or another more powerful machine learning technique.\n",
    "    Explore different thresholds for removing extraneous columns."
   ]
  },
  {
   "cell_type": "code",
   "execution_count": null,
   "metadata": {},
   "outputs": [],
   "source": []
  }
 ],
 "metadata": {
  "kernelspec": {
   "display_name": "Python 3",
   "language": "python",
   "name": "python3"
  },
  "language_info": {
   "codemirror_mode": {
    "name": "ipython",
    "version": 3
   },
   "file_extension": ".py",
   "mimetype": "text/x-python",
   "name": "python",
   "nbconvert_exporter": "python",
   "pygments_lexer": "ipython3",
   "version": "3.7.4"
  }
 },
 "nbformat": 4,
 "nbformat_minor": 2
}
